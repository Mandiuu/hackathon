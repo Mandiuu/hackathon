{
 "cells": [
  {
   "cell_type": "code",
   "execution_count": 1,
   "metadata": {},
   "outputs": [],
   "source": [
    "with open('codes.txt', 'r') as file:\n",
    "    lines = file.readlines()\n",
    "\n",
    "cleaned_lines = [line.split(maxsplit=1)[1] for line in lines]\n",
    "\n",
    "with open('cleaned_diseases.txt', 'w') as file:\n",
    "    file.writelines(cleaned_lines)"
   ]
  }
 ],
 "metadata": {
  "kernelspec": {
   "display_name": "Python 3",
   "language": "python",
   "name": "python3"
  },
  "language_info": {
   "codemirror_mode": {
    "name": "ipython",
    "version": 3
   },
   "file_extension": ".py",
   "mimetype": "text/x-python",
   "name": "python",
   "nbconvert_exporter": "python",
   "pygments_lexer": "ipython3",
   "version": "3.11.6"
  }
 },
 "nbformat": 4,
 "nbformat_minor": 2
}
